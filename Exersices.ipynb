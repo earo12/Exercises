{
  "nbformat": 4,
  "nbformat_minor": 0,
  "metadata": {
    "colab": {
      "provenance": [],
      "authorship_tag": "ABX9TyPijyIpFysev4bLs/YvKSEn",
      "include_colab_link": true
    },
    "kernelspec": {
      "name": "python3",
      "display_name": "Python 3"
    },
    "language_info": {
      "name": "python"
    }
  },
  "cells": [
    {
      "cell_type": "markdown",
      "metadata": {
        "id": "view-in-github",
        "colab_type": "text"
      },
      "source": [
        "<a href=\"https://colab.research.google.com/github/earo12/Exercises/blob/main/Exersices.ipynb\" target=\"_parent\"><img src=\"https://colab.research.google.com/assets/colab-badge.svg\" alt=\"Open In Colab\"/></a>"
      ]
    },
    {
      "cell_type": "code",
      "execution_count": 6,
      "metadata": {
        "id": "R4yWZSXZS-lh"
      },
      "outputs": [],
      "source": [
        "#Sort a list without sorting \n",
        "def order(my_list):\n",
        "  for recorrido in range(1, len(my_list)):\n",
        "    for posicion in range(len(my_list) -  recorrido):\n",
        "      if my_list[posicion] > my_list[posicion + 1]:\n",
        "        temporal = my_list[posicion]\n",
        "        my_list[posicion] = my_list[posicion + 1]\n",
        "        my_list[posicion + 1] = temporal\n",
        "  return my_list\n",
        "    "
      ]
    },
    {
      "cell_type": "code",
      "source": [
        "lista = [3, 4, 16, 1]\n",
        "print(order(lista))"
      ],
      "metadata": {
        "colab": {
          "base_uri": "https://localhost:8080/"
        },
        "id": "TeEFZSoFWNfW",
        "outputId": "8b58ef87-fbab-495d-f3b0-0fa2b30a8c94"
      },
      "execution_count": 7,
      "outputs": [
        {
          "output_type": "stream",
          "name": "stdout",
          "text": [
            "[1, 3, 4, 16]\n"
          ]
        }
      ]
    },
    {
      "cell_type": "code",
      "source": [],
      "metadata": {
        "id": "OsTVngO0WgZR"
      },
      "execution_count": null,
      "outputs": []
    }
  ]
}
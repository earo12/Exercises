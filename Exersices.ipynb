{
  "nbformat": 4,
  "nbformat_minor": 0,
  "metadata": {
    "colab": {
      "provenance": [],
      "authorship_tag": "ABX9TyMAz/5TVqLzc2TqkWZWQOUj",
      "include_colab_link": true
    },
    "kernelspec": {
      "name": "python3",
      "display_name": "Python 3"
    },
    "language_info": {
      "name": "python"
    }
  },
  "cells": [
    {
      "cell_type": "markdown",
      "metadata": {
        "id": "view-in-github",
        "colab_type": "text"
      },
      "source": [
        "<a href=\"https://colab.research.google.com/github/earo12/Exercises/blob/main/Exersices.ipynb\" target=\"_parent\"><img src=\"https://colab.research.google.com/assets/colab-badge.svg\" alt=\"Open In Colab\"/></a>"
      ]
    },
    {
      "cell_type": "code",
      "execution_count": null,
      "metadata": {
        "id": "R4yWZSXZS-lh"
      },
      "outputs": [],
      "source": [
        "#Bubble sorting\n",
        "def order(my_list):\n",
        "  for recorrido in range(1, len(my_list)):\n",
        "    for posicion in range(len(my_list) -  recorrido):\n",
        "      if my_list[posicion] > my_list[posicion + 1]:\n",
        "        temporal = my_list[posicion]\n",
        "        my_list[posicion] = my_list[posicion + 1]\n",
        "        my_list[posicion + 1] = temporal\n",
        "  return my_list\n",
        "    "
      ]
    },
    {
      "cell_type": "code",
      "source": [
        "lista = [3, 4, 16, 1]\n",
        "print(order(lista))"
      ],
      "metadata": {
        "colab": {
          "base_uri": "https://localhost:8080/"
        },
        "id": "TeEFZSoFWNfW",
        "outputId": "8b58ef87-fbab-495d-f3b0-0fa2b30a8c94"
      },
      "execution_count": null,
      "outputs": [
        {
          "output_type": "stream",
          "name": "stdout",
          "text": [
            "[1, 3, 4, 16]\n"
          ]
        }
      ]
    },
    {
      "cell_type": "code",
      "source": [
        "# Sort a list without fucntion \n",
        "def sort_list(my_list):\n",
        "  for i in range(len(my_list)):\n",
        "    for j in range(i+1, len(my_list)):\n",
        "      if my_list[i] > my_list[j]:\n",
        "        my_list[i], my_list[j] = my_list[j], my_list[i]\n",
        "  return my_list"
      ],
      "metadata": {
        "id": "OsTVngO0WgZR"
      },
      "execution_count": null,
      "outputs": []
    },
    {
      "cell_type": "code",
      "source": [
        "l = [64, 25, 12, 22, 11, 1,2,44,3,122, 23, 34]\n",
        "print(sort_list(l))"
      ],
      "metadata": {
        "colab": {
          "base_uri": "https://localhost:8080/"
        },
        "id": "aQS_hnSEgADL",
        "outputId": "dddc1788-342b-43d8-d18d-b6396db9aaee"
      },
      "execution_count": null,
      "outputs": [
        {
          "output_type": "stream",
          "name": "stdout",
          "text": [
            "[1, 2, 3, 11, 12, 22, 23, 25, 34, 44, 64, 122]\n"
          ]
        }
      ]
    },
    {
      "cell_type": "code",
      "source": [
        "def is_prime(lower, upper):\n",
        "  for num in range(lower, upper + 1):\n",
        "    if num > 1:\n",
        "      for i in range(2, num):\n",
        "        if num % i == 0:\n",
        "          break\n",
        "      else:\n",
        "        print(num)"
      ],
      "metadata": {
        "id": "ZtoenpurgUmr"
      },
      "execution_count": 11,
      "outputs": []
    },
    {
      "cell_type": "code",
      "source": [
        "print(is_prime(100, 200))"
      ],
      "metadata": {
        "colab": {
          "base_uri": "https://localhost:8080/"
        },
        "id": "867giXMpW6dJ",
        "outputId": "a492ff20-055a-4ef1-cf5b-bfc21dee5bbc"
      },
      "execution_count": 12,
      "outputs": [
        {
          "output_type": "stream",
          "name": "stdout",
          "text": [
            "101\n",
            "103\n",
            "107\n",
            "109\n",
            "113\n",
            "127\n",
            "131\n",
            "137\n",
            "139\n",
            "149\n",
            "151\n",
            "157\n",
            "163\n",
            "167\n",
            "173\n",
            "179\n",
            "181\n",
            "191\n",
            "193\n",
            "197\n",
            "199\n",
            "None\n"
          ]
        }
      ]
    },
    {
      "cell_type": "code",
      "source": [
        "num = int(input('Ingrese un numero: '))\n",
        "def primo(num):\n",
        "  if num > 1:\n",
        "    cont = 0\n",
        "    for i in range(2, num):\n",
        "      rest = num % i\n",
        "    # print('{}%{} = {}' .format(num, i, rest))\n",
        "      if rest == 0:\n",
        "        cont += 1\n",
        "    if cont == 0:\n",
        "      print(f'El {num} es numero primero')\n",
        "    else:\n",
        "      print(f'El {num} no es numero primero')\n",
        "\n",
        "  else: \n",
        "    print('No es numero primero')  \n",
        "\n",
        "print(primo(num))    "
      ],
      "metadata": {
        "colab": {
          "base_uri": "https://localhost:8080/"
        },
        "id": "mwWM8LnqW_KE",
        "outputId": "5a8a1829-677e-49a1-a3b5-708aa3bf3cc5"
      },
      "execution_count": 19,
      "outputs": [
        {
          "output_type": "stream",
          "name": "stdout",
          "text": [
            "Ingrese un numero: 5\n",
            "El 5 es numero primero\n",
            "None\n"
          ]
        }
      ]
    },
    {
      "cell_type": "code",
      "source": [
        "def espalindromo(palabra):\n",
        "  palabra = palabra.lower().replace(' ','').replace('á', 'a').replace('é', 'e').replace('í', 'i').replace('ó', 'o').replace('ú', 'u')\n",
        "  return palabra == palabra[::-1]"
      ],
      "metadata": {
        "id": "sWxKsDvXdjG1"
      },
      "execution_count": 20,
      "outputs": []
    },
    {
      "cell_type": "code",
      "source": [
        "espalindromo('Annita la huerfanita')"
      ],
      "metadata": {
        "colab": {
          "base_uri": "https://localhost:8080/"
        },
        "id": "sQSgzGT_culH",
        "outputId": "79d9fca8-8120-4870-a29e-50fd269e782b"
      },
      "execution_count": 23,
      "outputs": [
        {
          "output_type": "execute_result",
          "data": {
            "text/plain": [
              "False"
            ]
          },
          "metadata": {},
          "execution_count": 23
        }
      ]
    },
    {
      "cell_type": "code",
      "source": [
        "espalindromo('Anna')"
      ],
      "metadata": {
        "colab": {
          "base_uri": "https://localhost:8080/"
        },
        "id": "yDDEpAVAgtU8",
        "outputId": "988f03fd-4308-4b0e-9bea-7bfd5336d884"
      },
      "execution_count": 24,
      "outputs": [
        {
          "output_type": "execute_result",
          "data": {
            "text/plain": [
              "True"
            ]
          },
          "metadata": {},
          "execution_count": 24
        }
      ]
    },
    {
      "cell_type": "code",
      "source": [
        "espalindromo('12345678900987654321')"
      ],
      "metadata": {
        "colab": {
          "base_uri": "https://localhost:8080/"
        },
        "id": "z4Hw1KjFg0Lo",
        "outputId": "54eaf4ec-b111-4019-aa28-9ccc05fd5a77"
      },
      "execution_count": 25,
      "outputs": [
        {
          "output_type": "execute_result",
          "data": {
            "text/plain": [
              "True"
            ]
          },
          "metadata": {},
          "execution_count": 25
        }
      ]
    },
    {
      "cell_type": "code",
      "source": [],
      "metadata": {
        "id": "PBdy-nTNg4Ar"
      },
      "execution_count": null,
      "outputs": []
    }
  ]
}
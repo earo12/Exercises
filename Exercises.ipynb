{
  "nbformat": 4,
  "nbformat_minor": 0,
  "metadata": {
    "colab": {
      "provenance": [],
      "authorship_tag": "ABX9TyMkQPAAN9KaGfUuZlQuyb9n",
      "include_colab_link": true
    },
    "kernelspec": {
      "name": "python3",
      "display_name": "Python 3"
    },
    "language_info": {
      "name": "python"
    }
  },
  "cells": [
    {
      "cell_type": "markdown",
      "metadata": {
        "id": "view-in-github",
        "colab_type": "text"
      },
      "source": [
        "<a href=\"https://colab.research.google.com/github/earo12/Exercises/blob/main/Exercises.ipynb\" target=\"_parent\"><img src=\"https://colab.research.google.com/assets/colab-badge.svg\" alt=\"Open In Colab\"/></a>"
      ]
    },
    {
      "cell_type": "code",
      "execution_count": null,
      "metadata": {
        "id": "R4yWZSXZS-lh"
      },
      "outputs": [],
      "source": [
        "#Bubble sorting\n",
        "def order(my_list):\n",
        "  for recorrido in range(1, len(my_list)):\n",
        "    for posicion in range(len(my_list) -  recorrido):\n",
        "      if my_list[posicion] > my_list[posicion + 1]:\n",
        "        temporal = my_list[posicion]\n",
        "        my_list[posicion] = my_list[posicion + 1]\n",
        "        my_list[posicion + 1] = temporal\n",
        "  return my_list\n",
        "    "
      ]
    },
    {
      "cell_type": "code",
      "source": [
        "lista = [3, 4, 16, 1]\n",
        "print(order(lista))"
      ],
      "metadata": {
        "colab": {
          "base_uri": "https://localhost:8080/"
        },
        "id": "TeEFZSoFWNfW",
        "outputId": "8b58ef87-fbab-495d-f3b0-0fa2b30a8c94"
      },
      "execution_count": null,
      "outputs": [
        {
          "output_type": "stream",
          "name": "stdout",
          "text": [
            "[1, 3, 4, 16]\n"
          ]
        }
      ]
    },
    {
      "cell_type": "code",
      "source": [
        "# Sort a list without fucntion \n",
        "def sort_list(my_list):\n",
        "  for i in range(len(my_list)):\n",
        "    for j in range(i+1, len(my_list)):\n",
        "      if my_list[i] > my_list[j]:\n",
        "        my_list[i], my_list[j] = my_list[j], my_list[i]\n",
        "  return my_list"
      ],
      "metadata": {
        "id": "OsTVngO0WgZR"
      },
      "execution_count": null,
      "outputs": []
    },
    {
      "cell_type": "code",
      "source": [
        "l = [64, 25, 12, 22, 11, 1,2,44,3,122, 23, 34]\n",
        "print(sort_list(l))"
      ],
      "metadata": {
        "colab": {
          "base_uri": "https://localhost:8080/"
        },
        "id": "aQS_hnSEgADL",
        "outputId": "dddc1788-342b-43d8-d18d-b6396db9aaee"
      },
      "execution_count": null,
      "outputs": [
        {
          "output_type": "stream",
          "name": "stdout",
          "text": [
            "[1, 2, 3, 11, 12, 22, 23, 25, 34, 44, 64, 122]\n"
          ]
        }
      ]
    },
    {
      "cell_type": "code",
      "source": [
        "def is_prime(lower, upper):\n",
        "  for num in range(lower, upper + 1):\n",
        "    if num > 1:\n",
        "      for i in range(2, num):\n",
        "        if num % i == 0:\n",
        "          break\n",
        "      else:\n",
        "        print(num)"
      ],
      "metadata": {
        "id": "ZtoenpurgUmr"
      },
      "execution_count": null,
      "outputs": []
    },
    {
      "cell_type": "code",
      "source": [
        "print(is_prime(100, 200))"
      ],
      "metadata": {
        "colab": {
          "base_uri": "https://localhost:8080/"
        },
        "id": "867giXMpW6dJ",
        "outputId": "a492ff20-055a-4ef1-cf5b-bfc21dee5bbc"
      },
      "execution_count": null,
      "outputs": [
        {
          "output_type": "stream",
          "name": "stdout",
          "text": [
            "101\n",
            "103\n",
            "107\n",
            "109\n",
            "113\n",
            "127\n",
            "131\n",
            "137\n",
            "139\n",
            "149\n",
            "151\n",
            "157\n",
            "163\n",
            "167\n",
            "173\n",
            "179\n",
            "181\n",
            "191\n",
            "193\n",
            "197\n",
            "199\n",
            "None\n"
          ]
        }
      ]
    },
    {
      "cell_type": "code",
      "source": [
        "#Numero primo\n",
        "num = int(input('Ingrese un numero: '))\n",
        "def primo(num):\n",
        "  if num > 1:\n",
        "    cont = 0\n",
        "    for i in range(2, num):\n",
        "      rest = num % i\n",
        "    # print('{}%{} = {}' .format(num, i, rest))\n",
        "      if rest == 0:\n",
        "        cont += 1\n",
        "    if cont == 0:\n",
        "      print(f'El {num} es numero primero')\n",
        "    else:\n",
        "      print(f'El {num} no es numero primero')\n",
        "\n",
        "  else: \n",
        "    print('No es numero primero')  \n",
        "\n",
        "print(primo(num))    "
      ],
      "metadata": {
        "colab": {
          "base_uri": "https://localhost:8080/"
        },
        "id": "mwWM8LnqW_KE",
        "outputId": "b1f62b59-e67f-48a5-f7fe-ecbd05ef24fa"
      },
      "execution_count": 1,
      "outputs": [
        {
          "output_type": "stream",
          "name": "stdout",
          "text": [
            "Ingrese un numero: 17\n",
            "El 17 es numero primero\n",
            "None\n"
          ]
        }
      ]
    },
    {
      "cell_type": "code",
      "source": [
        "#Detector de palindromos\n",
        "def espalindromo(palabra):\n",
        "  palabra = palabra.lower().replace(' ','').replace('á', 'a').replace('é', 'e').replace('í', 'i').replace('ó', 'o').replace('ú', 'u')\n",
        "  return palabra == palabra[::-1]"
      ],
      "metadata": {
        "id": "sWxKsDvXdjG1"
      },
      "execution_count": 2,
      "outputs": []
    },
    {
      "cell_type": "code",
      "source": [
        "espalindromo('Annita la huerfanita')"
      ],
      "metadata": {
        "colab": {
          "base_uri": "https://localhost:8080/"
        },
        "id": "sQSgzGT_culH",
        "outputId": "79d9fca8-8120-4870-a29e-50fd269e782b"
      },
      "execution_count": null,
      "outputs": [
        {
          "output_type": "execute_result",
          "data": {
            "text/plain": [
              "False"
            ]
          },
          "metadata": {},
          "execution_count": 23
        }
      ]
    },
    {
      "cell_type": "code",
      "source": [
        "espalindromo('Anna')"
      ],
      "metadata": {
        "colab": {
          "base_uri": "https://localhost:8080/"
        },
        "id": "yDDEpAVAgtU8",
        "outputId": "988f03fd-4308-4b0e-9bea-7bfd5336d884"
      },
      "execution_count": null,
      "outputs": [
        {
          "output_type": "execute_result",
          "data": {
            "text/plain": [
              "True"
            ]
          },
          "metadata": {},
          "execution_count": 24
        }
      ]
    },
    {
      "cell_type": "code",
      "source": [
        "espalindromo('12345678900987654321')"
      ],
      "metadata": {
        "colab": {
          "base_uri": "https://localhost:8080/"
        },
        "id": "z4Hw1KjFg0Lo",
        "outputId": "54eaf4ec-b111-4019-aa28-9ccc05fd5a77"
      },
      "execution_count": null,
      "outputs": [
        {
          "output_type": "execute_result",
          "data": {
            "text/plain": [
              "True"
            ]
          },
          "metadata": {},
          "execution_count": 25
        }
      ]
    },
    {
      "cell_type": "code",
      "source": [
        "def factorial(number):\n",
        "  facto = 1\n",
        "  if number < 0:\n",
        "    print('Not apply')\n",
        "  elif number == 0:\n",
        "    print('Factorial is 1')\n",
        "  else:\n",
        "    for i in range(1, number + 1):\n",
        "      facto = facto * i\n",
        "    print(f'Factorial of {number} is {facto} ')\n"
      ],
      "metadata": {
        "id": "PBdy-nTNg4Ar"
      },
      "execution_count": null,
      "outputs": []
    },
    {
      "cell_type": "code",
      "source": [
        "print(factorial(1))"
      ],
      "metadata": {
        "colab": {
          "base_uri": "https://localhost:8080/"
        },
        "id": "WPLF0djNnKiJ",
        "outputId": "aca6738c-142a-4800-8756-45af4e76d66c"
      },
      "execution_count": null,
      "outputs": [
        {
          "output_type": "stream",
          "name": "stdout",
          "text": [
            "Factorial of 1 is 1 \n",
            "None\n"
          ]
        }
      ]
    },
    {
      "cell_type": "code",
      "source": [
        "#Fibonacci \n",
        "n1 = 0\n",
        "n2 = 1\n",
        "for i in range(2, 10):\n",
        "  sum = n1 + n2\n",
        "  print(sum)\n",
        "  n1 = n2\n",
        "  n2 = sum "
      ],
      "metadata": {
        "colab": {
          "base_uri": "https://localhost:8080/"
        },
        "id": "rXhMBpcunPyy",
        "outputId": "cee29291-4b62-401c-fc69-e615c6c0ff17"
      },
      "execution_count": null,
      "outputs": [
        {
          "output_type": "stream",
          "name": "stdout",
          "text": [
            "1\n",
            "2\n",
            "3\n",
            "5\n",
            "8\n",
            "13\n",
            "21\n",
            "34\n"
          ]
        }
      ]
    },
    {
      "cell_type": "code",
      "source": [
        "#MAX\n",
        "arr = [1, 2, 3, 4, 5]\n",
        "max = arr[0]\n",
        "n = len(arr)\n",
        "for i in range(1, n):\n",
        "  if arr[i] > max:\n",
        "    max = arr[i]\n",
        "print(max)"
      ],
      "metadata": {
        "colab": {
          "base_uri": "https://localhost:8080/"
        },
        "id": "TTHjt43qok5y",
        "outputId": "5fec8567-36ad-484f-c8f6-20317ef62161"
      },
      "execution_count": null,
      "outputs": [
        {
          "output_type": "stream",
          "name": "stdout",
          "text": [
            "5\n"
          ]
        }
      ]
    },
    {
      "cell_type": "code",
      "source": [
        "#MIN\n",
        "arr = [1, -2, -0.3, 4, 5]\n",
        "min = arr[0]\n",
        "n = len(arr)\n",
        "for i in range(1, n):\n",
        "  if arr[i] < min:\n",
        "    min = arr[i]\n",
        "print(min)    "
      ],
      "metadata": {
        "colab": {
          "base_uri": "https://localhost:8080/"
        },
        "id": "X1MyX1qio_Wk",
        "outputId": "5025ceaa-5752-4927-ea39-c9135f52af7b"
      },
      "execution_count": null,
      "outputs": [
        {
          "output_type": "stream",
          "name": "stdout",
          "text": [
            "-2\n"
          ]
        }
      ]
    },
    {
      "cell_type": "code",
      "source": [
        "#Given an integer, , perform the following conditional actions\n",
        "#If n is odd, print Weird\n",
        "#If n is even and in the inclusive range of  to , print Not Weird\n",
        "#If n is even and in the inclusive range of  to , print Weird\n",
        "#If n  is even and greater than , print Not Weird\n",
        "import math\n",
        "import os\n",
        "import random\n",
        "import re\n",
        "import sys\n",
        "\n",
        "\n",
        "\n",
        "if __name__ == '__main__':\n",
        "    n = int(input().strip())\n",
        "    if n % 2 != 0:\n",
        "        print('Weird')\n",
        "    else:\n",
        "        if n >= 2 and n <= 5:\n",
        "            print('Not Weird')\n",
        "        elif n >= 6 and n <= 20:\n",
        "            print('Weird')\n",
        "        elif n > 20:\n",
        "            print('Not Weird')"
      ],
      "metadata": {
        "id": "fWNv9RcbqxZB",
        "colab": {
          "base_uri": "https://localhost:8080/"
        },
        "outputId": "23a9c05f-3ce5-4ced-e0ed-857f83e38935"
      },
      "execution_count": null,
      "outputs": [
        {
          "output_type": "stream",
          "name": "stdout",
          "text": [
            "15\n",
            "Weird\n"
          ]
        }
      ]
    },
    {
      "cell_type": "code",
      "source": [
        "#Second element highest in a list\n",
        "def second(list_two):\n",
        "  a = list_two().sort()\n",
        "  return print(f'Second element highest: {a[-1]}')"
      ],
      "metadata": {
        "id": "CLP-S_NO92L3"
      },
      "execution_count": 3,
      "outputs": []
    },
    {
      "cell_type": "code",
      "source": [
        "listw = [10, 20, ]"
      ],
      "metadata": {
        "id": "rMPrxBEnXiR8"
      },
      "execution_count": null,
      "outputs": []
    }
  ]
}